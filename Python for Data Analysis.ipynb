{
 "cells": [
  {
   "cell_type": "markdown",
   "id": "9ef4f3c7-7a5e-433e-81ca-54ef9091d7d6",
   "metadata": {},
   "source": [
    "# PYTHON FOR DATA ANALYSIS"
   ]
  },
  {
   "cell_type": "markdown",
   "id": "5942d92c-89ec-4d39-b84e-e18d498405ee",
   "metadata": {},
   "source": [
    "**Patrick Nemeth** \n",
    "\n",
    "**March 26, 2024**"
   ]
  },
  {
   "cell_type": "markdown",
   "id": "450c0606-9779-48b0-8bd2-48c21453bf2f",
   "metadata": {},
   "source": [
    "# Table of Contents\n",
    "1. [Introduction](#Introduction)\n",
    "2. [Python Language Basics](#Python-Language-Basics)\n",
    "    1. [Language Semantics](#Language-Semantics)\n",
    "    2. [Indentation, not braces](#Indentation,-not-braces)\n",
    "    3. [Everything is an object](#Everything-is-an-object)\n",
    "    4. [Comments](#Comments)\n",
    "    5. [Function and object method calls](#Function-and-object-method-calls)\n",
    "    6. [Variables and argument passing](#Variables-and-argument-passing)\n",
    "    7. [Dynamic references, strong types](#Dynamic-references,-strong-types)\n",
    "    8. [Attributes and methods](#Attributes-and-methods)\n",
    "    9. [Duck typing](#Duck-typing)\n",
    "    10. [Imports](#Imports)\n",
    "    11. [Binary operators and comparisons](#Binary-operators-and-comparisons)\n",
    "    12. [Mutable and immutable objects](#Mutable-and-immutable-objects)\n",
    "    13. [Scalar Types](#Scalar-Types)\n",
    "        1. [Numeric types](#Numeric-types)\n",
    "        2. [Strings](#Strings)\n",
    "        3. [Bytes and Unicode](#Bytes-and-Unicode)\n",
    "        4. [Booleans](#Booleans)\n",
    "        5. [Type casting](#Type-casting)\n",
    "        6. [None](#None)\n",
    "        7. [Dates and times](#Dates-and-times)\n",
    "    14. [Control Flow](#Control-Flow)\n",
    "        1. [if, elif, and else](#if,-elif,-and-else)\n",
    "        2. [for loops](#for-loops)"
   ]
  },
  {
   "cell_type": "markdown",
   "id": "72c8bd0f-1674-4f8f-8a42-a0a5932798dd",
   "metadata": {},
   "source": [
    "## 1. Introduction\n",
    "Hi, in this series of notebooks I will be working through O'Reilly's \"Python For Data Analysis, 3rd edition\" by Wes McKinney.  The big idea is to reenforce the subjects that were covered in my Data Science BootCamp, and perhaps learn something new.  Here goes!"
   ]
  },
  {
   "cell_type": "markdown",
   "id": "d17d0f6a-f82f-4e19-94ff-45d1f91b9747",
   "metadata": {},
   "source": [
    "#### Tab Completion \n",
    "\n",
    "Pressing the `tab` key will search the \"namespace\" for any variables (objects, functions, etc.) matching the characters you have typed and show the results in a dop-down menu:\n",
    "\n",
    "(A namespace in Python is a system that ensures that all the names in a program are unique and can be used without conflict. Namespaces are implemented as Python dictionaries, with the key being the name and the value being the corresponding object. This system allows Python to differentiate between identifiers such as variable names, function names, class names, etc., even if they have the same name but are in different namespaces.)"
   ]
  },
  {
   "cell_type": "code",
   "execution_count": null,
   "id": "776904cb-6224-40e0-9196-1a8ac644f3db",
   "metadata": {},
   "outputs": [],
   "source": [
    "an_apple = 27\n",
    "an_example = 42\n",
    "\n",
    "'''\n",
    "an<press `tab` key>\n",
    "see the drop-down list of variables starting with \"an\""
   ]
  },
  {
   "cell_type": "markdown",
   "id": "6a7680a5-f400-441d-bf2c-5d99e5c16017",
   "metadata": {},
   "source": [
    "For methods and attributes, use a `period`, then `tab`. When you type b. and then press the Tab key after a list object b, a drop-down list will appear, showing all the methods (functions) and attributes available for lists in Python.:"
   ]
  },
  {
   "cell_type": "code",
   "execution_count": null,
   "id": "4fafc708-6bfb-408b-8f69-6cf7a2bd7488",
   "metadata": {},
   "outputs": [],
   "source": [
    "b = [1, 2, 3]\n",
    "\n",
    "\n",
    "'''\n",
    "b.<press `tab` key>\n",
    "see the drop-down list of functions available for lists"
   ]
  },
  {
   "cell_type": "markdown",
   "id": "cf8f3f00-b5a2-4e90-9ac4-01c947d1ef28",
   "metadata": {},
   "source": [
    "The same is true for modules:"
   ]
  },
  {
   "cell_type": "code",
   "execution_count": null,
   "id": "7f0e73a3-17e6-4a63-b1de-0ebb8208f5ac",
   "metadata": {},
   "outputs": [],
   "source": [
    "import datetime\n",
    "\n",
    "'''\n",
    "datetime.<tab>\n",
    "see a drop-down list of the attributes and methods available in the datetime module"
   ]
  },
  {
   "cell_type": "markdown",
   "id": "7c9debd9-11c8-4cd6-824f-38e259bb7a98",
   "metadata": {},
   "source": [
    "This also works with file paths and fuction keyword arguments (more on this later). "
   ]
  },
  {
   "cell_type": "markdown",
   "id": "7b0b10b0-62a9-40fb-944a-281fc67561d7",
   "metadata": {},
   "source": [
    "#### INTROSPECTION\n",
    "\n",
    "Use a `?` before or after a variable to display some general info about the object:"
   ]
  },
  {
   "cell_type": "code",
   "execution_count": 3,
   "id": "d9ffc703-ddff-40a7-96d8-6998e0e5132e",
   "metadata": {},
   "outputs": [
    {
     "data": {
      "text/plain": [
       "'\\nb<?>\\n'"
      ]
     },
     "execution_count": 3,
     "metadata": {},
     "output_type": "execute_result"
    },
    {
     "data": {
      "text/plain": [
       "\u001b[0;31mType:\u001b[0m        list\n",
       "\u001b[0;31mString form:\u001b[0m [1, 2, 3]\n",
       "\u001b[0;31mLength:\u001b[0m      3\n",
       "\u001b[0;31mDocstring:\u001b[0m  \n",
       "Built-in mutable sequence.\n",
       "\n",
       "If no argument is given, the constructor creates a new empty list.\n",
       "The argument must be an iterable if specified."
      ]
     },
     "metadata": {},
     "output_type": "display_data"
    }
   ],
   "source": [
    "b = [1, 2, 3]\n",
    "b?\n",
    "\n",
    "'''\n",
    "b<?>\n",
    "'''"
   ]
  },
  {
   "cell_type": "code",
   "execution_count": 4,
   "id": "2d1925c8-783c-4f1d-87e6-f0ec648c1945",
   "metadata": {},
   "outputs": [
    {
     "data": {
      "text/plain": [
       "\u001b[0;31mSignature:\u001b[0m \u001b[0mprint\u001b[0m\u001b[0;34m(\u001b[0m\u001b[0;34m*\u001b[0m\u001b[0margs\u001b[0m\u001b[0;34m,\u001b[0m \u001b[0msep\u001b[0m\u001b[0;34m=\u001b[0m\u001b[0;34m' '\u001b[0m\u001b[0;34m,\u001b[0m \u001b[0mend\u001b[0m\u001b[0;34m=\u001b[0m\u001b[0;34m'\\n'\u001b[0m\u001b[0;34m,\u001b[0m \u001b[0mfile\u001b[0m\u001b[0;34m=\u001b[0m\u001b[0;32mNone\u001b[0m\u001b[0;34m,\u001b[0m \u001b[0mflush\u001b[0m\u001b[0;34m=\u001b[0m\u001b[0;32mFalse\u001b[0m\u001b[0;34m)\u001b[0m\u001b[0;34m\u001b[0m\u001b[0;34m\u001b[0m\u001b[0m\n",
       "\u001b[0;31mDocstring:\u001b[0m\n",
       "Prints the values to a stream, or to sys.stdout by default.\n",
       "\n",
       "sep\n",
       "  string inserted between values, default a space.\n",
       "end\n",
       "  string appended after the last value, default a newline.\n",
       "file\n",
       "  a file-like object (stream); defaults to the current sys.stdout.\n",
       "flush\n",
       "  whether to forcibly flush the stream.\n",
       "\u001b[0;31mType:\u001b[0m      builtin_function_or_method"
      ]
     },
     "metadata": {},
     "output_type": "display_data"
    }
   ],
   "source": [
    "print?"
   ]
  },
  {
   "cell_type": "markdown",
   "id": "e362bead-2113-46f3-9b23-1e7a9c24c546",
   "metadata": {},
   "source": [
    "This is called \"object introspection\""
   ]
  },
  {
   "cell_type": "code",
   "execution_count": 9,
   "id": "35272024-87b7-40dc-a677-1f69f0b8e995",
   "metadata": {},
   "outputs": [],
   "source": [
    "def add_numbers(a, b):\n",
    "    ''' \n",
    "    Add two numbers together.\n",
    "\n",
    "    Returns\n",
    "    -------\n",
    "    the_sum : type of arguments\n",
    "    '''\n",
    "    return a + b\n"
   ]
  },
  {
   "cell_type": "code",
   "execution_count": null,
   "id": "6ce1b230-ba1b-4f27-ae85-d9c2fe8a7723",
   "metadata": {},
   "outputs": [],
   "source": [
    "then, use the `?`:"
   ]
  },
  {
   "cell_type": "code",
   "execution_count": 10,
   "id": "d6be3723-50ea-4894-b008-1839a5edb653",
   "metadata": {},
   "outputs": [
    {
     "data": {
      "text/plain": [
       "\u001b[0;31mSignature:\u001b[0m \u001b[0madd_numbers\u001b[0m\u001b[0;34m(\u001b[0m\u001b[0ma\u001b[0m\u001b[0;34m,\u001b[0m \u001b[0mb\u001b[0m\u001b[0;34m)\u001b[0m\u001b[0;34m\u001b[0m\u001b[0;34m\u001b[0m\u001b[0m\n",
       "\u001b[0;31mDocstring:\u001b[0m\n",
       "Add two numbers together.\n",
       "\n",
       "Returns\n",
       "-------\n",
       "the_sum : type of arguments\n",
       "\u001b[0;31mFile:\u001b[0m      /var/folders/4j/ygh5mh6j1vn2g2996l16p1d40000gn/T/ipykernel_63057/3723837611.py\n",
       "\u001b[0;31mType:\u001b[0m      function"
      ]
     },
     "metadata": {},
     "output_type": "display_data"
    }
   ],
   "source": [
    "add_numbers?"
   ]
  },
  {
   "cell_type": "markdown",
   "id": "ab44d964-8ae1-4880-af28-54ece2424690",
   "metadata": {},
   "source": [
    "Finally, characters  combined with the wildcard `*` will show all names matching the wildcard expression: "
   ]
  },
  {
   "cell_type": "code",
   "execution_count": 11,
   "id": "7eec3c90-ee6a-4074-b961-e31511588cd3",
   "metadata": {},
   "outputs": [
    {
     "data": {
      "text/plain": [
       "np.__loader__\n",
       "np.load\n",
       "np.loadtxt"
      ]
     },
     "metadata": {},
     "output_type": "display_data"
    }
   ],
   "source": [
    "import numpy as np\n",
    "\n",
    "np.*load*?"
   ]
  },
  {
   "cell_type": "markdown",
   "id": "ba5cb864-5208-4ac6-a7df-d630192aeeee",
   "metadata": {},
   "source": [
    "## 2. Python Language Basics\n",
    "An overview of essential Python programming concepts and language mechanics."
   ]
  },
  {
   "cell_type": "markdown",
   "id": "90173858-013f-43e9-be73-c050f0fa9cc4",
   "metadata": {},
   "source": [
    "### 2.1 Language Semantics\n"
   ]
  },
  {
   "cell_type": "code",
   "execution_count": null,
   "id": "6182ebcf-7c16-44e2-affc-af593b7a4a55",
   "metadata": {},
   "outputs": [],
   "source": []
  },
  {
   "cell_type": "code",
   "execution_count": null,
   "id": "3ce80ff4-4e62-46b2-989b-2418027772ca",
   "metadata": {},
   "outputs": [],
   "source": []
  },
  {
   "cell_type": "code",
   "execution_count": null,
   "id": "333b85d1-e206-4124-ae1c-0264e17a1222",
   "metadata": {},
   "outputs": [],
   "source": []
  },
  {
   "cell_type": "code",
   "execution_count": null,
   "id": "b60bdfc0-8f02-4ec4-850f-d85ef17ad49a",
   "metadata": {},
   "outputs": [],
   "source": []
  },
  {
   "cell_type": "code",
   "execution_count": null,
   "id": "54f8156d-fe32-4dcd-9104-e5af54cd12de",
   "metadata": {},
   "outputs": [],
   "source": []
  },
  {
   "cell_type": "code",
   "execution_count": null,
   "id": "2ee61d02-ecf2-4603-beb3-f051b173b2f2",
   "metadata": {},
   "outputs": [],
   "source": []
  },
  {
   "cell_type": "markdown",
   "id": "b7794850-24a0-4ef9-bb9d-a91234f215c6",
   "metadata": {},
   "source": [
    "# GPT KLUDGE ZONE \n",
    "\n",
    "### 2.2 Indentation, not braces\n",
    "Discuss Python's use of whitespace for code structuring instead of braces.\n",
    "\n",
    "### 2.3 Everything is an object\n",
    "Explain Python's object model and how everything in Python is treated as an object.\n",
    "\n",
    "### 2.4 Comments\n",
    "Discuss comments in Python and their usage.\n",
    "\n",
    "### 2.5 Function and object method calls\n",
    "Explain how functions and methods are called in Python.\n",
    "\n",
    "### 2.6 Variables and argument passing\n",
    "Discuss variable assignment and argument passing in Python.\n",
    "\n",
    "### 2.7 Dynamic references, strong types\n",
    "Explain Python's dynamic typing and strong typing.\n",
    "\n",
    "### 2.8 Attributes and methods\n",
    "Discuss accessing attributes and methods of objects in Python.\n",
    "\n",
    "### 2.9 Duck typing\n",
    "Explain the concept of duck typing in Python.\n",
    "\n",
    "### 2.10 Imports\n",
    "Discuss importing modules in Python.\n",
    "\n",
    "### 2.11 Binary operators and comparisons\n",
    "Explain common binary operators and comparisons in Python.\n",
    "\n",
    "### 2.12 Mutable and immutable objects\n",
    "Discuss mutable and immutable objects in Python.\n",
    "\n",
    "### 2.13 Scalar Types\n",
    "Discuss Python's scalar types, including numeric types, strings, bytes, and booleans.\n",
    "\n",
    "### 2.14 Control Flow\n",
    "Discuss control flow statements in Python, including if, elif, else, and for loops.\n",
    "\n"
   ]
  },
  {
   "cell_type": "code",
   "execution_count": null,
   "id": "305fc9d5-86ec-40e6-8127-52e9fe80a52b",
   "metadata": {},
   "outputs": [],
   "source": []
  },
  {
   "cell_type": "code",
   "execution_count": null,
   "id": "c9ec7e5e-0b73-4506-ad6e-8b4d294411c8",
   "metadata": {},
   "outputs": [],
   "source": []
  },
  {
   "cell_type": "code",
   "execution_count": null,
   "id": "40609743-42a3-4f9b-a86e-ba0ccd9d1239",
   "metadata": {},
   "outputs": [],
   "source": []
  },
  {
   "cell_type": "code",
   "execution_count": null,
   "id": "7d38900b-86a5-460a-97b4-b3afc28e4815",
   "metadata": {},
   "outputs": [],
   "source": []
  },
  {
   "cell_type": "code",
   "execution_count": null,
   "id": "0f7e24a0-608b-408c-a0ce-58bb12d5d5d2",
   "metadata": {},
   "outputs": [],
   "source": []
  },
  {
   "cell_type": "code",
   "execution_count": null,
   "id": "86295ba1-925a-4636-b6da-5963e3eb828e",
   "metadata": {},
   "outputs": [],
   "source": []
  }
 ],
 "metadata": {
  "kernelspec": {
   "display_name": "Python 3 (ipykernel)",
   "language": "python",
   "name": "python3"
  },
  "language_info": {
   "codemirror_mode": {
    "name": "ipython",
    "version": 3
   },
   "file_extension": ".py",
   "mimetype": "text/x-python",
   "name": "python",
   "nbconvert_exporter": "python",
   "pygments_lexer": "ipython3",
   "version": "3.11.5"
  }
 },
 "nbformat": 4,
 "nbformat_minor": 5
}
